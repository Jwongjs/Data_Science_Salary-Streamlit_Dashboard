{
 "cells": [
  {
   "cell_type": "code",
   "execution_count": 32,
   "metadata": {},
   "outputs": [],
   "source": [
    "import pandas as pd"
   ]
  },
  {
   "cell_type": "code",
   "execution_count": 33,
   "metadata": {},
   "outputs": [],
   "source": [
    "df = pd.read_csv(r\"\\Users\\user\\Desktop\\UOW\\Data Science Toolbox\\Data visualization assignment\\processed_data.csv\")"
   ]
  },
  {
   "cell_type": "markdown",
   "metadata": {},
   "source": [
    "- **Encode categorical variables**"
   ]
  },
  {
   "cell_type": "code",
   "execution_count": 34,
   "metadata": {},
   "outputs": [
    {
     "name": "stdout",
     "output_type": "stream",
     "text": [
      "Unique values for job_title: [ 8 41 22 69 89 33 25 47 13 88 17  9  7  2  1 23 14 16 51 58  4 31 53 59\n",
      " 29 66  6  5 55 49 62 37 74 67 57 90 45 42 70 61  3 34 44 86 28 72 84 38\n",
      " 18 50 32 73 21 40 52 11 30 12 75 15 24 10 35 43 79 68 27 26  0 63 60 48\n",
      " 64 54 81 76 85 36 46 20 39 77 87 82 71 65 78 80 19 83 92 56 91]\n",
      "Unique values for country_name: [70 50 31 12 62 26 25 64  5 63 11 69 71 10 27 29 48 23 35 59 61 45 24 18\n",
      "  4 39 57 65 13 67 36 16 55 22 40 51 52 37 47  3 17 33 30  2  8  6 32 42\n",
      " 43 19  1 58 54 41 66  9 21  0 60 56 68 20 34 15  7 38 14 46 44 53 28 49]\n",
      "Unique values for experience_level: [0 1 2 3]\n",
      "Unique values for employment_type: [2 3 0 1]\n",
      "Unique values for company_size: [0 1 2]\n"
     ]
    }
   ],
   "source": [
    "from sklearn.preprocessing import LabelEncoder\n",
    "\n",
    "columns_to_encode = ['job_title', 'country_name', 'experience_level', 'employment_type', 'company_size']\n",
    "\n",
    "for column in columns_to_encode:\n",
    "    df[column] = LabelEncoder().fit_transform(df[column])\n",
    "    #Print unique values for each encoded feature\n",
    "    print(f\"Unique values for {column}: {df[column].unique()}\")\n"
   ]
  },
  {
   "cell_type": "markdown",
   "metadata": {},
   "source": [
    "- **Data Splitting**"
   ]
  },
  {
   "cell_type": "code",
   "execution_count": 35,
   "metadata": {},
   "outputs": [],
   "source": [
    "from sklearn.model_selection import train_test_split\n",
    "\n",
    "X = df.drop(columns = ['salary', 'salary_currency', 'salary_in_usd', 'work_year', 'company_location', 'salary_in_myr'], axis = 1)\n",
    "#Ensuring that the training dataset has the same sequence of columns for feature_df\n",
    "expected_features = ['job_title', 'country_name', 'experience_level', 'employment_type', 'company_size']\n",
    "X = X[expected_features]\n",
    "y = df['salary']\n",
    "\n",
    "X_train, X_test, y_train, y_test = train_test_split(X, y, test_size = 0.2, random_state = 42)"
   ]
  },
  {
   "cell_type": "markdown",
   "metadata": {},
   "source": [
    "- **Model Training**"
   ]
  },
  {
   "cell_type": "markdown",
   "metadata": {},
   "source": [
    "Random Forest "
   ]
  },
  {
   "cell_type": "code",
   "execution_count": 36,
   "metadata": {},
   "outputs": [
    {
     "name": "stdout",
     "output_type": "stream",
     "text": [
      "Random Forest Regressor\n",
      "-----------------------\n",
      "R-squared (R2) Score: 0.6983404343925137\n",
      "Mean Squared Error (MSE): 70581696225.02385\n"
     ]
    }
   ],
   "source": [
    "from sklearn.ensemble import RandomForestRegressor\n",
    "from sklearn.metrics import r2_score, mean_squared_error, mean_absolute_error\n",
    "import pickle\n",
    "\n",
    "rf_regressor = RandomForestRegressor(random_state = 42)\n",
    "\n",
    "rf_regressor.fit(X_train, y_train)\n",
    "\n",
    "rf_pred = rf_regressor.predict(X_test)\n",
    "\n",
    "print(\"Random Forest Regressor\")\n",
    "print(\"-----------------------\")\n",
    "print(f\"R-squared (R2) Score: {r2_score(y_test, rf_pred)}\")\n",
    "print(f\"Mean Squared Error (MSE): {mean_squared_error(y_test, rf_pred)}\")\n",
    "\n",
    "with open(\"rf_regressor.pkl\", \"wb\") as f:\n",
    "    pickle.dump(rf_regressor, f)"
   ]
  },
  {
   "cell_type": "markdown",
   "metadata": {},
   "source": [
    "XGBoost (chosen over random forest due to r^2 score)"
   ]
  },
  {
   "cell_type": "code",
   "execution_count": 38,
   "metadata": {},
   "outputs": [
    {
     "name": "stdout",
     "output_type": "stream",
     "text": [
      "XGBoost Regressor\n",
      "-----------------------\n",
      "R-squared (R2) Score: 0.7102597078197428\n",
      "Mean Squared Error (MSE): 67792848688.99596\n"
     ]
    }
   ],
   "source": [
    "from xgboost import XGBRegressor\n",
    "\n",
    "xgb_regressor = XGBRegressor(random_state = 42)\n",
    "\n",
    "xgb_regressor.fit(X_train, y_train)\n",
    "\n",
    "xgb_pred = xgb_regressor.predict(X_test)\n",
    "\n",
    "print(\"XGBoost Regressor\")\n",
    "print(\"-----------------------\")\n",
    "print(f\"R-squared (R2) Score: {r2_score(y_test, xgb_pred)}\")\n",
    "print(f\"Mean Squared Error (MSE): {mean_squared_error(y_test, xgb_pred)}\")\n",
    "\n",
    "with open(\"xgb_regressor.pkl\", \"wb\") as f:\n",
    "    pickle.dump(xgb_regressor, f)"
   ]
  }
 ],
 "metadata": {
  "kernelspec": {
   "display_name": "Python 3",
   "language": "python",
   "name": "python3"
  },
  "language_info": {
   "codemirror_mode": {
    "name": "ipython",
    "version": 3
   },
   "file_extension": ".py",
   "mimetype": "text/x-python",
   "name": "python",
   "nbconvert_exporter": "python",
   "pygments_lexer": "ipython3",
   "version": "3.11.5"
  }
 },
 "nbformat": 4,
 "nbformat_minor": 2
}
