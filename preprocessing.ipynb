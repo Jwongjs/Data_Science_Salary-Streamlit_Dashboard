{
 "cells": [
  {
   "cell_type": "markdown",
   "metadata": {},
   "source": [
    "#### Import Data"
   ]
  },
  {
   "cell_type": "code",
   "execution_count": 17,
   "metadata": {},
   "outputs": [
    {
     "data": {
      "text/plain": [
       "job_title\n",
       "Data Engineer                         66\n",
       "Data Analyst                          63\n",
       "Data Scientist                        59\n",
       "Machine Learning Engineer             21\n",
       "Research Engineer                     10\n",
       "Research Scientist                     9\n",
       "AI Scientist                           7\n",
       "Data Science Consultant                7\n",
       "Applied Scientist                      6\n",
       "AI Developer                           6\n",
       "BI Data Analyst                        6\n",
       "Business Data Analyst                  6\n",
       "Machine Learning Developer             5\n",
       "Computer Vision Engineer               4\n",
       "Big Data Engineer                      4\n",
       "Computer Vision Software Engineer      3\n",
       "Applied Data Scientist                 3\n",
       "Machine Learning Research Engineer     3\n",
       "AI Programmer                          2\n",
       "Applied Machine Learning Scientist     2\n",
       "ML Engineer                            2\n",
       "Data Manager                           2\n",
       "Machine Learning Scientist             2\n",
       "BI Analyst                             2\n",
       "3D Computer Vision Researcher          2\n",
       "Data Analytics Engineer                2\n",
       "Deep Learning Engineer                 2\n",
       "BI Developer                           2\n",
       "Compliance Data Analyst                1\n",
       "Data Analytics Consultant              1\n",
       "BI Data Engineer                       1\n",
       "Machine Learning Software Engineer     1\n",
       "Product Data Analyst                   1\n",
       "Autonomous Vehicle Technician          1\n",
       "Data Quality Analyst                   1\n",
       "Data Specialist                        1\n",
       "Analytics Engineer                     1\n",
       "Financial Data Analyst                 1\n",
       "Marketing Data Engineer                1\n",
       "Power BI Developer                     1\n",
       "Name: count, dtype: int64"
      ]
     },
     "execution_count": 17,
     "metadata": {},
     "output_type": "execute_result"
    }
   ],
   "source": [
    "import pandas as pd\n",
    "df = pd.read_csv(\"dataset.csv\")\n",
    "#df.set_option(\"display.max_columns\",None)\n",
    "df[df[\"experience_level\"] == \"EN\"][\"job_title\"].value_counts()"
   ]
  },
  {
   "cell_type": "markdown",
   "metadata": {},
   "source": [
    "#### Checking for nulls"
   ]
  },
  {
   "cell_type": "code",
   "execution_count": null,
   "metadata": {},
   "outputs": [],
   "source": [
    "df.info()\n",
    "df.isnull().any()\n",
    "\n",
    "# No nulls detected"
   ]
  },
  {
   "cell_type": "markdown",
   "metadata": {},
   "source": [
    "#### Checking for duplicates"
   ]
  },
  {
   "cell_type": "code",
   "execution_count": null,
   "metadata": {},
   "outputs": [],
   "source": [
    "df.duplicated(keep=\"first\").any()\n",
    "\n",
    "## Duplicates are present, keeping them in for now, as it is possible for different people to have the same job w/ same salary"
   ]
  },
  {
   "cell_type": "markdown",
   "metadata": {},
   "source": [
    "#### Adding column for currency in MYR"
   ]
  },
  {
   "cell_type": "code",
   "execution_count": null,
   "metadata": {},
   "outputs": [],
   "source": [
    "df[\"salary_in_myr\"] = df[\"salary_in_usd\"] * 4.71\n",
    "df[\"salary_in_myr\"] = df[\"salary_in_myr\"].astype(\"int\")\n",
    "df[[\"job_title\",\"salary_in_usd\",\"salary_in_myr\"]]\n",
    "\n",
    "## Added column for currency in MYR, converted to int to remove decimal values"
   ]
  },
  {
   "cell_type": "markdown",
   "metadata": {},
   "source": [
    "#### Converting location names to full name"
   ]
  },
  {
   "cell_type": "code",
   "execution_count": null,
   "metadata": {},
   "outputs": [],
   "source": [
    "import pycountry\n",
    "\n",
    "df['country_name'] = df['company_location'].map(lambda x: pycountry.countries.get(alpha_2=x).name)\n",
    "df.groupby(\"country_name\")['company_location'].unique()\n"
   ]
  },
  {
   "cell_type": "markdown",
   "metadata": {},
   "source": [
    "#### Exporting to processed_data.csv"
   ]
  },
  {
   "cell_type": "code",
   "execution_count": null,
   "metadata": {},
   "outputs": [],
   "source": [
    "df.to_csv(\"processed_data.csv\", index = False)\n",
    "\n",
    "## saved to processed_data.csv"
   ]
  }
 ],
 "metadata": {
  "kernelspec": {
   "display_name": "Python 3",
   "language": "python",
   "name": "python3"
  },
  "language_info": {
   "codemirror_mode": {
    "name": "ipython",
    "version": 3
   },
   "file_extension": ".py",
   "mimetype": "text/x-python",
   "name": "python",
   "nbconvert_exporter": "python",
   "pygments_lexer": "ipython3",
   "version": "3.11.5"
  }
 },
 "nbformat": 4,
 "nbformat_minor": 2
}
