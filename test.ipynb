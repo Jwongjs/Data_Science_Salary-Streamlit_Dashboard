{
 "cells": [
  {
   "cell_type": "code",
   "execution_count": 2,
   "metadata": {},
   "outputs": [
    {
     "name": "stdout",
     "output_type": "stream",
     "text": [
      "['Applied Scientist' 'Data Quality Analyst' 'Compliance Data Analyst'\n",
      " 'Machine Learning Engineer' 'Research Scientist' 'Data Engineer'\n",
      " 'Data Analyst' 'Data Scientist' 'BI Data Engineer' 'Research Engineer'\n",
      " 'Business Data Analyst' 'Autonomous Vehicle Technician'\n",
      " 'Applied Machine Learning Scientist' 'AI Programmer' 'AI Developer'\n",
      " 'Computer Vision Engineer' 'BI Developer' 'Big Data Engineer'\n",
      " 'Deep Learning Engineer' 'Head of Data' 'Analytics Engineer'\n",
      " 'Data Architect' 'Director of Data Science' 'Head of Data Science'\n",
      " 'Data Analytics Manager' 'ML Engineer'\n",
      " 'Applied Machine Learning Engineer' 'Applied Data Scientist'\n",
      " 'ETL Engineer' 'Data Specialist' 'Lead Data Analyst' 'Data Manager'\n",
      " 'Machine Learning Scientist' 'MLOps Engineer' 'Financial Data Analyst'\n",
      " 'Software Data Engineer' 'Data Science Manager' 'Data Science Consultant'\n",
      " 'Machine Learning Infrastructure Engineer' 'Insight Analyst'\n",
      " 'AI Scientist' 'Data Infrastructure Engineer' 'Data Science Lead'\n",
      " 'Product Data Analyst' 'Data Analytics Lead'\n",
      " 'Machine Learning Research Engineer' 'Principal Data Scientist'\n",
      " 'Data Modeler' 'Business Intelligence Engineer' 'Data Strategist'\n",
      " 'Data DevOps Engineer' 'Machine Learning Researcher'\n",
      " 'Cloud Database Engineer' 'Data Operations Engineer'\n",
      " 'Deep Learning Researcher' 'BI Analyst' 'Data Analytics Specialist'\n",
      " 'BI Data Analyst' 'Machine Learning Software Engineer'\n",
      " 'Big Data Architect' 'Computer Vision Software Engineer'\n",
      " 'Azure Data Engineer' 'Data Lead' 'Data Science Engineer' 'NLP Engineer'\n",
      " 'Machine Learning Developer' 'Data Analytics Engineer'\n",
      " 'Data Analytics Consultant' '3D Computer Vision Researcher'\n",
      " 'Lead Data Engineer' 'Head of Machine Learning' 'Data Scientist Lead'\n",
      " 'Lead Data Scientist' 'ETL Developer' 'Principal Data Analyst'\n",
      " 'Manager Data Management' 'Principal Machine Learning Engineer'\n",
      " 'Data Management Specialist' 'Data Science Tech Lead'\n",
      " 'Cloud Data Engineer' 'Data Operations Analyst' 'Marketing Data Analyst'\n",
      " 'Product Data Scientist' 'Principal Data Architect'\n",
      " 'Machine Learning Manager' 'Lead Machine Learning Engineer'\n",
      " 'Marketing Data Engineer' 'Power BI Developer' 'Cloud Data Architect'\n",
      " 'Principal Data Engineer' 'Staff Data Scientist' 'Finance Data Analyst'\n",
      " 'Staff Data Analyst']\n"
     ]
    }
   ],
   "source": [
    "import pandas as pd\n",
    "\n",
    "df = pd.read_csv(\"processed_data.csv\")\n",
    "\n",
    "job_titles = df[\"job_title\"].unique()\n",
    "print(job_titles)\n"
   ]
  }
 ],
 "metadata": {
  "kernelspec": {
   "display_name": "Python 3",
   "language": "python",
   "name": "python3"
  },
  "language_info": {
   "codemirror_mode": {
    "name": "ipython",
    "version": 3
   },
   "file_extension": ".py",
   "mimetype": "text/x-python",
   "name": "python",
   "nbconvert_exporter": "python",
   "pygments_lexer": "ipython3",
   "version": "3.11.5"
  }
 },
 "nbformat": 4,
 "nbformat_minor": 2
}
